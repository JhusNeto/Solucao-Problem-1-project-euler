{
 "cells": [
  {
   "cell_type": "markdown",
   "id": "f1fb5ef3-efa2-4594-af36-f43b0bc7d07b",
   "metadata": {},
   "source": [
    "# Multiples of 3 or 5\n",
    "### Problem 1"
   ]
  },
  {
   "cell_type": "markdown",
   "id": "d055c430-0760-4bab-bcca-68fd30d7a0cf",
   "metadata": {},
   "source": [
    "If we list all the natural numbers below 10 that are multiples of 3 or 5, we get 3, 5, 6 and 9. The sum of these multiples is 23.\n",
    "\n",
    "Find the sum of all the multiples of 3 or 5 below 1000."
   ]
  },
  {
   "cell_type": "code",
   "execution_count": 22,
   "id": "be748248-505a-434c-958c-73d5617eceba",
   "metadata": {},
   "outputs": [],
   "source": [
    "import pandas as pd"
   ]
  },
  {
   "cell_type": "code",
   "execution_count": 2,
   "id": "e67e8737-ff8e-4664-8218-f5543007f947",
   "metadata": {},
   "outputs": [],
   "source": [
    "!export PATH=/Library/TeX/texbin:$PATH"
   ]
  },
  {
   "cell_type": "code",
   "execution_count": 47,
   "id": "6a49856e-6cda-49a6-9afd-1ed1ad5d8c5f",
   "metadata": {},
   "outputs": [
    {
     "name": "stdout",
     "output_type": "stream",
     "text": [
      "Soma: 233168\n"
     ]
    }
   ],
   "source": [
    "soma = 0 # Inicializando a variável soma com zero, de modo a não interferir no resultado final\n",
    "multiplos_selecionados = [] # Inicializando uma lista vazia, que será populada pelos múltiplos de 3 e 5\n",
    "for n in range(1000): # Parametrizando o loop para iteração dos n números do intervalo [0,1000)\n",
    "    if (((n%3)==0 or (n%5)==0) and (n!=0)): # Adicionando estrutura condicional para verificar o resto da divisão do número n por 3 e por 5, excluindo-se o zero.\n",
    "                                            # Caso um dos restos seja 0, esse número n entra na soma de múltiplos\n",
    "        multiplos_selecionados.append({\"Número\":n, \"Resto da divisão por 3\":(n%3), \"Resto da divisão por 5\":(n%5)}) # Adiciona o número n, o resto de sua divisão por 3, o resto de sua divisão por 5 à lista multiplos_selecionados\n",
    "        soma = soma + n # Realiza a soma a cada iteração do loop for\n",
    "print(f\"Soma: {soma}\",) # Ao sair do loop for, a soma final é retornada."
   ]
  },
  {
   "cell_type": "code",
   "execution_count": 48,
   "id": "f6e3aee1-a963-4da9-9a1f-2620dbc62c98",
   "metadata": {},
   "outputs": [],
   "source": [
    "multiplos_selecionados = pd.DataFrame(multiplos_selecionados) # Transforma a lista num DataFrame"
   ]
  },
  {
   "cell_type": "code",
   "execution_count": 49,
   "id": "b753cdc8-612b-4022-a351-9a5c1866c633",
   "metadata": {},
   "outputs": [
    {
     "data": {
      "text/html": [
       "<div>\n",
       "<style scoped>\n",
       "    .dataframe tbody tr th:only-of-type {\n",
       "        vertical-align: middle;\n",
       "    }\n",
       "\n",
       "    .dataframe tbody tr th {\n",
       "        vertical-align: top;\n",
       "    }\n",
       "\n",
       "    .dataframe thead th {\n",
       "        text-align: right;\n",
       "    }\n",
       "</style>\n",
       "<table border=\"1\" class=\"dataframe\">\n",
       "  <thead>\n",
       "    <tr style=\"text-align: right;\">\n",
       "      <th></th>\n",
       "      <th>Número</th>\n",
       "      <th>Resto da divisão por 3</th>\n",
       "      <th>Resto da divisão por 5</th>\n",
       "    </tr>\n",
       "  </thead>\n",
       "  <tbody>\n",
       "    <tr>\n",
       "      <th>0</th>\n",
       "      <td>3</td>\n",
       "      <td>0</td>\n",
       "      <td>3</td>\n",
       "    </tr>\n",
       "    <tr>\n",
       "      <th>1</th>\n",
       "      <td>5</td>\n",
       "      <td>2</td>\n",
       "      <td>0</td>\n",
       "    </tr>\n",
       "    <tr>\n",
       "      <th>2</th>\n",
       "      <td>6</td>\n",
       "      <td>0</td>\n",
       "      <td>1</td>\n",
       "    </tr>\n",
       "    <tr>\n",
       "      <th>3</th>\n",
       "      <td>9</td>\n",
       "      <td>0</td>\n",
       "      <td>4</td>\n",
       "    </tr>\n",
       "    <tr>\n",
       "      <th>4</th>\n",
       "      <td>10</td>\n",
       "      <td>1</td>\n",
       "      <td>0</td>\n",
       "    </tr>\n",
       "    <tr>\n",
       "      <th>...</th>\n",
       "      <td>...</td>\n",
       "      <td>...</td>\n",
       "      <td>...</td>\n",
       "    </tr>\n",
       "    <tr>\n",
       "      <th>461</th>\n",
       "      <td>990</td>\n",
       "      <td>0</td>\n",
       "      <td>0</td>\n",
       "    </tr>\n",
       "    <tr>\n",
       "      <th>462</th>\n",
       "      <td>993</td>\n",
       "      <td>0</td>\n",
       "      <td>3</td>\n",
       "    </tr>\n",
       "    <tr>\n",
       "      <th>463</th>\n",
       "      <td>995</td>\n",
       "      <td>2</td>\n",
       "      <td>0</td>\n",
       "    </tr>\n",
       "    <tr>\n",
       "      <th>464</th>\n",
       "      <td>996</td>\n",
       "      <td>0</td>\n",
       "      <td>1</td>\n",
       "    </tr>\n",
       "    <tr>\n",
       "      <th>465</th>\n",
       "      <td>999</td>\n",
       "      <td>0</td>\n",
       "      <td>4</td>\n",
       "    </tr>\n",
       "  </tbody>\n",
       "</table>\n",
       "<p>466 rows × 3 columns</p>\n",
       "</div>"
      ],
      "text/plain": [
       "     Número  Resto da divisão por 3  Resto da divisão por 5\n",
       "0         3                       0                       3\n",
       "1         5                       2                       0\n",
       "2         6                       0                       1\n",
       "3         9                       0                       4\n",
       "4        10                       1                       0\n",
       "..      ...                     ...                     ...\n",
       "461     990                       0                       0\n",
       "462     993                       0                       3\n",
       "463     995                       2                       0\n",
       "464     996                       0                       1\n",
       "465     999                       0                       4\n",
       "\n",
       "[466 rows x 3 columns]"
      ]
     },
     "execution_count": 49,
     "metadata": {},
     "output_type": "execute_result"
    }
   ],
   "source": [
    "multiplos_selecionados # Imprime na tela o DataFrame com os múltiplos de 3 e 5 entre 0 e 1000"
   ]
  },
  {
   "cell_type": "code",
   "execution_count": null,
   "id": "f4f5f096-942b-4ed3-b55f-f0e32481165b",
   "metadata": {},
   "outputs": [],
   "source": []
  }
 ],
 "metadata": {
  "kernelspec": {
   "display_name": "Python 3",
   "language": "python",
   "name": "python3"
  },
  "language_info": {
   "codemirror_mode": {
    "name": "ipython",
    "version": 3
   },
   "file_extension": ".py",
   "mimetype": "text/x-python",
   "name": "python",
   "nbconvert_exporter": "python",
   "pygments_lexer": "ipython3",
   "version": "3.8.8"
  }
 },
 "nbformat": 4,
 "nbformat_minor": 5
}
